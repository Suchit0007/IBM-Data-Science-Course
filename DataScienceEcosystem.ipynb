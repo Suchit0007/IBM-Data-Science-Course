{
 "cells": [
  {
   "cell_type": "markdown",
   "id": "ef32ea69-6d62-48de-825f-387f8cc04819",
   "metadata": {},
   "source": [
    "<H1>Data Science Tools and Ecosystem</H1>"
   ]
  },
  {
   "cell_type": "markdown",
   "id": "4ae87821-a6b1-42d3-9270-65a16b6249b6",
   "metadata": {},
   "source": [
    "In this notebook, Data Science Tools and Ecosystem are summarized."
   ]
  },
  {
   "cell_type": "markdown",
   "id": "36fde353-56a5-4c6c-934f-b3b02801a730",
   "metadata": {},
   "source": [
    "Some of the popular languages that Data Scientists use are:<br>\n",
    "<ol>\n",
    "<li>Python</li>\n",
    "<li>R</li>\n",
    "<li>SQL</li>\n",
    "</ol>"
   ]
  },
  {
   "cell_type": "markdown",
   "id": "bef059e2-f8f7-4ff6-b24d-5111879af9b9",
   "metadata": {},
   "source": [
    "Some of the commonly used libraries used by Data Scientists include:<br>\n",
    "<ol>\n",
    "<li>Numpy</li>\n",
    "<li>Pandas</li>\n",
    "<li>Matplotlib</li>\n",
    "<li>SciPy</li>\n",
    "</ol"
   ]
  },
  {
   "cell_type": "markdown",
   "id": "66f6154a-4f02-4fec-9c62-50d2f454291b",
   "metadata": {},
   "source": [
    "| Data Science Tools |\n",
    "| ------------------ |\n",
    "| Jupyter Notebook  |\n",
    "| Weka              |\n",
    "| Python            |\n",
    "| Tableau           |\n"
   ]
  },
  {
   "cell_type": "markdown",
   "id": "ba197cb3-bf23-44d5-ab6b-2f5c5d520a7c",
   "metadata": {
    "tags": []
   },
   "source": [
    "<h3>Below are a few examples of evaluating arithmetic expressions in Python</h3><br>\n",
    "<ol>\n",
    "<li>2+2</li>\n",
    "<li>2-2</li>\n",
    "<li>2*2</li>\n",
    "</ol>"
   ]
  },
  {
   "cell_type": "code",
   "execution_count": 6,
   "id": "61291e4c-712d-4df7-af78-2db797c3e6e4",
   "metadata": {
    "tags": []
   },
   "outputs": [
    {
     "data": {
      "text/plain": [
       "17"
      ]
     },
     "execution_count": 6,
     "metadata": {},
     "output_type": "execute_result"
    }
   ],
   "source": [
    "#This a simple arithmetic expression to mutiply then add integers\n",
    "(3*4)+5"
   ]
  },
  {
   "cell_type": "code",
   "execution_count": 8,
   "id": "6d445996-7163-4c91-a8a1-6cc10f2eb561",
   "metadata": {
    "tags": []
   },
   "outputs": [
    {
     "data": {
      "text/plain": [
       "3.3333333333333335"
      ]
     },
     "execution_count": 8,
     "metadata": {},
     "output_type": "execute_result"
    }
   ],
   "source": [
    "#this will convert 200 minutes to hours by diving by 60\n",
    "200/60"
   ]
  },
  {
   "cell_type": "markdown",
   "id": "6317f767-6172-49af-b5c5-15834eb1cd1d",
   "metadata": {
    "tags": []
   },
   "source": [
    "<b>Objectives:</b>\n",
    "<ul>\n",
    "<li>List popular languages for Data Science</li>\n",
    "<li>List  commonly used libraries used by Data Scientists</li>\n",
    "<li>How to use Jupyter Notebook</li>"
   ]
  },
  {
   "cell_type": "markdown",
   "id": "a28b8a2e-6c59-4387-abbd-f742e47597c2",
   "metadata": {
    "tags": []
   },
   "source": [
    "<h2>Author</h2><br>\n",
    "Suchit Sainju"
   ]
  },
  {
   "cell_type": "code",
   "execution_count": null,
   "id": "26363359-59fb-4f29-97c0-58c7bec3dbe0",
   "metadata": {},
   "outputs": [],
   "source": []
  }
 ],
 "metadata": {
  "kernelspec": {
   "display_name": "Python",
   "language": "python",
   "name": "conda-env-python-py"
  },
  "language_info": {
   "codemirror_mode": {
    "name": "ipython",
    "version": 3
   },
   "file_extension": ".py",
   "mimetype": "text/x-python",
   "name": "python",
   "nbconvert_exporter": "python",
   "pygments_lexer": "ipython3",
   "version": "3.7.12"
  }
 },
 "nbformat": 4,
 "nbformat_minor": 5
}
