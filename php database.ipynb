{
 "cells": [
  {
   "cell_type": "code",
   "execution_count": 1,
   "id": "aea0a587",
   "metadata": {},
   "outputs": [
    {
     "name": "stdout",
     "output_type": "stream",
     "text": [
      "Collecting mysql-connector-python\n",
      "  Downloading mysql_connector_python-8.1.0-py2.py3-none-any.whl (581 kB)\n",
      "\u001b[K     |████████████████████████████████| 581 kB 773 kB/s eta 0:00:01\n",
      "\u001b[?25hCollecting protobuf<=4.21.12,>=4.21.1\n",
      "  Downloading protobuf-4.21.12-cp37-abi3-macosx_10_9_universal2.whl (486 kB)\n",
      "\u001b[K     |████████████████████████████████| 486 kB 7.2 MB/s eta 0:00:01\n",
      "\u001b[?25hInstalling collected packages: protobuf, mysql-connector-python\n",
      "  Attempting uninstall: protobuf\n",
      "    Found existing installation: protobuf 3.19.1\n",
      "    Uninstalling protobuf-3.19.1:\n",
      "      Successfully uninstalled protobuf-3.19.1\n",
      "\u001b[31mERROR: pip's dependency resolver does not currently take into account all the packages that are installed. This behaviour is the source of the following dependency conflicts.\n",
      "tensorflow 2.11.0 requires protobuf<3.20,>=3.9.2, but you have protobuf 4.21.12 which is incompatible.\n",
      "tensorboard 2.11.2 requires protobuf<4,>=3.9.2, but you have protobuf 4.21.12 which is incompatible.\u001b[0m\n",
      "Successfully installed mysql-connector-python-8.1.0 protobuf-4.21.12\n",
      "Note: you may need to restart the kernel to use updated packages.\n"
     ]
    }
   ],
   "source": [
    "pip install mysql-connector-python"
   ]
  },
  {
   "cell_type": "code",
   "execution_count": 2,
   "id": "916e29ef",
   "metadata": {},
   "outputs": [],
   "source": [
    "import mysql.connector"
   ]
  },
  {
   "cell_type": "code",
   "execution_count": 22,
   "id": "ffbf9acc",
   "metadata": {},
   "outputs": [
    {
     "name": "stdout",
     "output_type": "stream",
     "text": [
      "Connection is sucessful\n"
     ]
    }
   ],
   "source": [
    "conn_string = mysql.connector.connect(\n",
    "\thost='localhost',\n",
    "\tuser='root',\n",
    "\tpassword=''\n",
    ")\n",
    "print(\"Connection is sucessful\")"
   ]
  },
  {
   "cell_type": "code",
   "execution_count": 23,
   "id": "6daf596e",
   "metadata": {},
   "outputs": [
    {
     "name": "stdout",
     "output_type": "stream",
     "text": [
      "('CSV_DB 15',)\n",
      "('CSV_DB 16',)\n",
      "('MyStore',)\n",
      "('Sales',)\n",
      "('data_storage',)\n",
      "('foodshop',)\n",
      "('information_schema',)\n",
      "('library',)\n",
      "('movie_rental',)\n",
      "('mysql',)\n",
      "('performance_schema',)\n",
      "('phpmyadmin',)\n",
      "('storage',)\n",
      "('supply',)\n",
      "('tech_academy',)\n",
      "('test',)\n",
      "('try_root',)\n"
     ]
    }
   ],
   "source": [
    "current_cursor= conn_string.cursor()\n",
    "current_cursor.execute(\"SHOW DATABASES;\")\n",
    "\n",
    "for x in current_cursor:\n",
    "    print(x)\n",
    "#conn_string.close()"
   ]
  },
  {
   "cell_type": "code",
   "execution_count": 27,
   "id": "2ba0eba4",
   "metadata": {},
   "outputs": [],
   "source": [
    "current_cursor.execute('USE movie_rental;')"
   ]
  },
  {
   "cell_type": "code",
   "execution_count": 28,
   "id": "3cf717a9",
   "metadata": {},
   "outputs": [
    {
     "name": "stdout",
     "output_type": "stream",
     "text": [
      "('clients',)\n",
      "('genres',)\n",
      "('movies',)\n",
      "('rents',)\n"
     ]
    }
   ],
   "source": [
    "current_cursor.execute(\"SHOW TABLES;\")\n",
    "for x in current_cursor:\n",
    "    print(x)"
   ]
  },
  {
   "cell_type": "code",
   "execution_count": 32,
   "id": "bf1cb23c",
   "metadata": {},
   "outputs": [
    {
     "name": "stdout",
     "output_type": "stream",
     "text": [
      "(1, 'Mark', 'Guiliana', datetime.date(1989, 9, 12), '-1321')\n",
      "(2, 'Benny', 'Greb', datetime.date(1985, 4, 4), '545-862-745')\n",
      "(3, 'Mark', 'Twain', datetime.date(1990, 7, 22), '541-965-785')\n",
      "(4, 'Anna', 'Ivanovna', datetime.date(1994, 9, 12), '654-785-022')\n",
      "(5, 'Kate', 'Bengio', datetime.date(2000, 12, 1), '854-889-886')\n",
      "(6, 'Siraj', 'Rawal', datetime.date(1991, 4, 18), '854-889886')\n",
      "(7, 'James', 'Arthur', datetime.date(1989, 6, 24), '654-852-962')\n"
     ]
    }
   ],
   "source": [
    "current_cursor.execute('select * from clients;')\n",
    "for x in current_cursor:\n",
    "    print(x)"
   ]
  },
  {
   "cell_type": "code",
   "execution_count": 33,
   "id": "e6b341e8",
   "metadata": {},
   "outputs": [],
   "source": [
    "import pandas as pd"
   ]
  },
  {
   "cell_type": "code",
   "execution_count": 40,
   "id": "a13e1596",
   "metadata": {},
   "outputs": [
    {
     "name": "stdout",
     "output_type": "stream",
     "text": [
      "Connection is sucessful\n"
     ]
    }
   ],
   "source": [
    "connection = mysql.connector.connect(\n",
    "\thost='localhost',\n",
    "\tuser='root',\n",
    "\tpassword='',\n",
    "    db='movie_rental'\n",
    ")\n",
    "print(\"Connection is sucessful\")"
   ]
  },
  {
   "cell_type": "code",
   "execution_count": 41,
   "id": "e77d626a",
   "metadata": {},
   "outputs": [],
   "source": [
    "clients_data=pd.read_sql_query(\"Select * from clients;\", connection)"
   ]
  },
  {
   "cell_type": "code",
   "execution_count": 42,
   "id": "0a2c0602",
   "metadata": {},
   "outputs": [
    {
     "data": {
      "text/html": [
       "<div>\n",
       "<style scoped>\n",
       "    .dataframe tbody tr th:only-of-type {\n",
       "        vertical-align: middle;\n",
       "    }\n",
       "\n",
       "    .dataframe tbody tr th {\n",
       "        vertical-align: top;\n",
       "    }\n",
       "\n",
       "    .dataframe thead th {\n",
       "        text-align: right;\n",
       "    }\n",
       "</style>\n",
       "<table border=\"1\" class=\"dataframe\">\n",
       "  <thead>\n",
       "    <tr style=\"text-align: right;\">\n",
       "      <th></th>\n",
       "      <th>clientsID</th>\n",
       "      <th>firstName</th>\n",
       "      <th>lastname</th>\n",
       "      <th>dob</th>\n",
       "      <th>phone</th>\n",
       "    </tr>\n",
       "  </thead>\n",
       "  <tbody>\n",
       "    <tr>\n",
       "      <th>0</th>\n",
       "      <td>1</td>\n",
       "      <td>Mark</td>\n",
       "      <td>Guiliana</td>\n",
       "      <td>1989-09-12</td>\n",
       "      <td>-1321</td>\n",
       "    </tr>\n",
       "    <tr>\n",
       "      <th>1</th>\n",
       "      <td>2</td>\n",
       "      <td>Benny</td>\n",
       "      <td>Greb</td>\n",
       "      <td>1985-04-04</td>\n",
       "      <td>545-862-745</td>\n",
       "    </tr>\n",
       "    <tr>\n",
       "      <th>2</th>\n",
       "      <td>3</td>\n",
       "      <td>Mark</td>\n",
       "      <td>Twain</td>\n",
       "      <td>1990-07-22</td>\n",
       "      <td>541-965-785</td>\n",
       "    </tr>\n",
       "    <tr>\n",
       "      <th>3</th>\n",
       "      <td>4</td>\n",
       "      <td>Anna</td>\n",
       "      <td>Ivanovna</td>\n",
       "      <td>1994-09-12</td>\n",
       "      <td>654-785-022</td>\n",
       "    </tr>\n",
       "    <tr>\n",
       "      <th>4</th>\n",
       "      <td>5</td>\n",
       "      <td>Kate</td>\n",
       "      <td>Bengio</td>\n",
       "      <td>2000-12-01</td>\n",
       "      <td>854-889-886</td>\n",
       "    </tr>\n",
       "    <tr>\n",
       "      <th>5</th>\n",
       "      <td>6</td>\n",
       "      <td>Siraj</td>\n",
       "      <td>Rawal</td>\n",
       "      <td>1991-04-18</td>\n",
       "      <td>854-889886</td>\n",
       "    </tr>\n",
       "    <tr>\n",
       "      <th>6</th>\n",
       "      <td>7</td>\n",
       "      <td>James</td>\n",
       "      <td>Arthur</td>\n",
       "      <td>1989-06-24</td>\n",
       "      <td>654-852-962</td>\n",
       "    </tr>\n",
       "  </tbody>\n",
       "</table>\n",
       "</div>"
      ],
      "text/plain": [
       "   clientsID firstName  lastname         dob        phone\n",
       "0          1      Mark  Guiliana  1989-09-12        -1321\n",
       "1          2     Benny      Greb  1985-04-04  545-862-745\n",
       "2          3      Mark     Twain  1990-07-22  541-965-785\n",
       "3          4      Anna  Ivanovna  1994-09-12  654-785-022\n",
       "4          5      Kate    Bengio  2000-12-01  854-889-886\n",
       "5          6     Siraj     Rawal  1991-04-18   854-889886\n",
       "6          7     James    Arthur  1989-06-24  654-852-962"
      ]
     },
     "execution_count": 42,
     "metadata": {},
     "output_type": "execute_result"
    }
   ],
   "source": [
    "clients_data"
   ]
  },
  {
   "cell_type": "code",
   "execution_count": 45,
   "id": "f5575e52",
   "metadata": {},
   "outputs": [
    {
     "name": "stderr",
     "output_type": "stream",
     "text": [
      "UsageError: Cell magic `%%` not found.\n"
     ]
    }
   ],
   "source": []
  },
  {
   "cell_type": "code",
   "execution_count": null,
   "id": "b632634d",
   "metadata": {},
   "outputs": [],
   "source": []
  }
 ],
 "metadata": {
  "kernelspec": {
   "display_name": "Python 3 (ipykernel)",
   "language": "python",
   "name": "python3"
  },
  "language_info": {
   "codemirror_mode": {
    "name": "ipython",
    "version": 3
   },
   "file_extension": ".py",
   "mimetype": "text/x-python",
   "name": "python",
   "nbconvert_exporter": "python",
   "pygments_lexer": "ipython3",
   "version": "3.9.12"
  }
 },
 "nbformat": 4,
 "nbformat_minor": 5
}
